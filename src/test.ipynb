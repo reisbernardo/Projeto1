{
 "cells": [
  {
   "cell_type": "code",
   "execution_count": 102,
   "id": "fdb25978-4b9a-4ba0-a0bd-da454f52fed2",
   "metadata": {},
   "outputs": [],
   "source": [
    "import pandas as pd\n",
    "import matplotlib.pyplot as plt\n",
    "import seaborn as sns\n",
    "from ADT import *\n",
    "from tableClasses import *\n",
    "sns.set_style(\"whitegrid\")"
   ]
  },
  {
   "cell_type": "code",
   "execution_count": 92,
   "id": "62f11309-406d-4170-9a06-55ef2fe2e336",
   "metadata": {},
   "outputs": [],
   "source": [
    "ath = pd.read_excel(\"Datasets/Athletes.xlsx\")\n",
    "t = AVL_Tree()"
   ]
  },
  {
   "cell_type": "code",
   "execution_count": 93,
   "id": "a587f1b8-abc9-4742-815f-76d54d797da7",
   "metadata": {},
   "outputs": [],
   "source": [
    "for row in ath.values:\n",
    "    t.insert(Athletes, row)"
   ]
  },
  {
   "cell_type": "code",
   "execution_count": 94,
   "id": "289400af-c38d-4e71-bdf4-f1cd200f51dc",
   "metadata": {},
   "outputs": [],
   "source": [
    "c = t.c_w_m_participants(t.root)\n",
    "c = dict(sorted(c.items(), key=lambda item: item[1], reverse=True))"
   ]
  },
  {
   "cell_type": "code",
   "execution_count": 95,
   "id": "0b2781a6-3228-49f4-acf5-324df897185f",
   "metadata": {},
   "outputs": [],
   "source": [
    "c = {k: c[k] for k in list(c)[:10]}"
   ]
  },
  {
   "cell_type": "code",
   "execution_count": 96,
   "id": "19dc82bb-d4fa-48d5-9928-f46d6e72332c",
   "metadata": {},
   "outputs": [
    {
     "data": {
      "text/plain": [
       "{'United States of America': 613,\n",
       " 'Japan': 585,\n",
       " 'Australia': 470,\n",
       " 'Germany': 399,\n",
       " \"People's Republic of China\": 398,\n",
       " 'France': 377,\n",
       " 'Canada': 368,\n",
       " 'Great Britain': 366,\n",
       " 'Italy': 354,\n",
       " 'Spain': 322}"
      ]
     },
     "execution_count": 96,
     "metadata": {},
     "output_type": "execute_result"
    }
   ],
   "source": [
    "c"
   ]
  },
  {
   "cell_type": "code",
   "execution_count": 97,
   "id": "bc63ab95-771e-4542-bffd-a02bc1f1072e",
   "metadata": {},
   "outputs": [],
   "source": [
    "c_values = c.values()\n",
    "c_keys = c.keys()\n"
   ]
  },
  {
   "cell_type": "code",
   "execution_count": 100,
   "id": "5637feaa-4862-47ae-b813-2c1b4499b95c",
   "metadata": {},
   "outputs": [
    {
     "name": "stdout",
     "output_type": "stream",
     "text": [
      "The country(ies) with the most participants is: \n",
      "United States of America with 613 participants\n"
     ]
    },
    {
     "data": {
      "text/plain": [
       "[None]"
      ]
     },
     "execution_count": 100,
     "metadata": {},
     "output_type": "execute_result"
    }
   ],
   "source": [
    "max_value = max(c_values)\n",
    "print(\"The country(ies) with the most participants is: \")\n",
    "[print(i, \"with\", j, \"participants\") for i,j in c.items() if j == max_value]"
   ]
  },
  {
   "cell_type": "code",
   "execution_count": 103,
   "id": "8cf09fba-872c-4167-8830-f09ff67299b4",
   "metadata": {},
   "outputs": [
    {
     "data": {
      "text/plain": [
       "([0, 1, 2, 3, 4, 5, 6, 7, 8, 9],\n",
       " [Text(0, 0, ''),\n",
       "  Text(0, 0, ''),\n",
       "  Text(0, 0, ''),\n",
       "  Text(0, 0, ''),\n",
       "  Text(0, 0, ''),\n",
       "  Text(0, 0, ''),\n",
       "  Text(0, 0, ''),\n",
       "  Text(0, 0, ''),\n",
       "  Text(0, 0, ''),\n",
       "  Text(0, 0, '')])"
      ]
     },
     "execution_count": 103,
     "metadata": {},
     "output_type": "execute_result"
    },
    {
     "data": {
      "image/png": "[encoded data removed]",
      "text/plain": [
       "<Figure size 432x288 with 1 Axes>"
      ]
     },
     "metadata": {},
     "output_type": "display_data"
    }
   ],
   "source": [
    "plt.bar(c_keys, c_values)\n",
    "plt.xticks(rotation=315)\n"
   ]
  },
  {
   "cell_type": "code",
   "execution_count": null,
   "id": "eb3a4ac9-6a93-48de-b99a-9a30800b216e",
   "metadata": {},
   "outputs": [],
   "source": []
  }
 ],
 "metadata": {
  "kernelspec": {
   "display_name": "local-venv",
   "language": "python",
   "name": "local-venv"
  },
  "language_info": {
   "codemirror_mode": {
    "name": "ipython",
    "version": 3
   },
   "file_extension": ".py",
   "mimetype": "text/x-python",
   "name": "python",
   "nbconvert_exporter": "python",
   "pygments_lexer": "ipython3",
   "version": "3.9.6"
  }
 },
 "nbformat": 4,
 "nbformat_minor": 5
}
